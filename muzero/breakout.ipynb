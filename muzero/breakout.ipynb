{
 "cells": [
  {
   "cell_type": "code",
   "execution_count": 1,
   "metadata": {},
   "outputs": [],
   "source": [
    "%load_ext autoreload\n",
    "%autoreload 2\n",
    "\n",
    "import numpy as np\n",
    "import tensorflow as tf\n",
    "\n",
    "import muzero as mz\n",
    "import gym\n",
    "from time import time, sleep\n",
    "from tqdm import tqdm\n",
    "\n",
    "import warnings\n",
    "warnings.filterwarnings('ignore')"
   ]
  },
  {
   "cell_type": "code",
   "execution_count": 2,
   "metadata": {},
   "outputs": [],
   "source": [
    "env = gym.make(\"Breakout-ram-v0\")"
   ]
  },
  {
   "cell_type": "code",
   "execution_count": 3,
   "metadata": {},
   "outputs": [],
   "source": [
    "MAX_MOVES = 27000       # Maximum number of moves in each game\n",
    "DISCOUNT = 0.95\n",
    "DIRICHLET_ALPHA = 0.25  # paper/stream\n",
    "NUM_SIMULATIONS = 50    # Number of mcts sims \n",
    "BATCH_SIZE = 128       # arbitrary\n",
    "TD_STEPS = 10           # arbitrary\n",
    "NUM_ACTORS = 10         # game-specific\n",
    "\n",
    "config = mz.MuZeroConfig(\n",
    "  env, MAX_MOVES, DISCOUNT, DIRICHLET_ALPHA, NUM_SIMULATIONS, BATCH_SIZE, \n",
    "  TD_STEPS, NUM_ACTORS\n",
    ")\n",
    "\n",
    "storage = mz.SharedStorage()\n",
    "replay_buffer = mz.ReplayBuffer(config)"
   ]
  },
  {
   "cell_type": "markdown",
   "metadata": {},
   "source": [
    "**Load the pretrained network**:"
   ]
  },
  {
   "cell_type": "code",
   "execution_count": 4,
   "metadata": {},
   "outputs": [],
   "source": [
    "network = storage.latest_network(config)\n",
    "network.load_pretrained('data/model')\n",
    "\n",
    "storage._networks[0] = network"
   ]
  },
  {
   "cell_type": "markdown",
   "metadata": {},
   "source": [
    "**Load previous game history**:"
   ]
  },
  {
   "cell_type": "code",
   "execution_count": 5,
   "metadata": {},
   "outputs": [],
   "source": [
    "replay_buffer.load_buffer('data/buffer.pkl')"
   ]
  },
  {
   "cell_type": "code",
   "execution_count": 6,
   "metadata": {},
   "outputs": [
    {
     "name": "stdout",
     "output_type": "stream",
     "text": [
      "10000\n"
     ]
    }
   ],
   "source": [
    "print(max([len(g.history) for g in replay_buffer.buffer]))"
   ]
  },
  {
   "cell_type": "markdown",
   "metadata": {},
   "source": [
    "Play and train:"
   ]
  },
  {
   "cell_type": "code",
   "execution_count": 9,
   "metadata": {},
   "outputs": [
    {
     "name": "stderr",
     "output_type": "stream",
     "text": [
      "100%|██████████| 10/10 [11:45<00:00, 70.52s/it]\n",
      "  0%|          | 0/10 [00:00<?, ?it/s]"
     ]
    },
    {
     "name": "stdout",
     "output_type": "stream",
     "text": [
      "Latest loss: 6266.70654296875\n",
      "Maximum reward: 4.0\n",
      "\n"
     ]
    },
    {
     "name": "stderr",
     "output_type": "stream",
     "text": [
      "100%|██████████| 10/10 [10:53<00:00, 65.35s/it]\n"
     ]
    },
    {
     "name": "stdout",
     "output_type": "stream",
     "text": [
      "Latest loss: 5344.46923828125\n",
      "Maximum reward: 5.0\n",
      "\n"
     ]
    }
   ],
   "source": [
    "NUM_LOOPS = 2\n",
    "for i in range(NUM_LOOPS):\n",
    "  for _ in tqdm(range(config.num_actors)):\n",
    "    mz.run_selfplay(config, storage, replay_buffer)\n",
    "  mz.train_network(config, storage, replay_buffer)\n",
    "\n",
    "  # Print some statistics\n",
    "  latest_network = storage.latest_network(config)\n",
    "  print(f'Latest loss: {latest_network.losses[-1][0]}')\n",
    "  max_reward = max(\n",
    "    [sum(g.rewards) for g in replay_buffer.buffer[-config.num_actors:]]\n",
    "  )\n",
    "  print(f'Maximum reward: {max_reward}')\n",
    "  print()"
   ]
  },
  {
   "cell_type": "markdown",
   "metadata": {},
   "source": [
    "## Play a game"
   ]
  },
  {
   "cell_type": "code",
   "execution_count": 10,
   "metadata": {},
   "outputs": [],
   "source": [
    "network = storage.latest_network(config)"
   ]
  },
  {
   "cell_type": "code",
   "execution_count": 12,
   "metadata": {},
   "outputs": [],
   "source": [
    "game = mz.play_game(config, network)"
   ]
  },
  {
   "cell_type": "code",
   "execution_count": 13,
   "metadata": {},
   "outputs": [
    {
     "name": "stdout",
     "output_type": "stream",
     "text": [
      "0.0\n"
     ]
    }
   ],
   "source": [
    "print(sum(game.rewards))"
   ]
  },
  {
   "cell_type": "code",
   "execution_count": 14,
   "metadata": {},
   "outputs": [
    {
     "name": "stdout",
     "output_type": "stream",
     "text": [
      "Reward baby: 1.0\n",
      "125\n",
      "Reward baby: 1.0\n"
     ]
    }
   ],
   "source": [
    "obs = env.reset()\n",
    "for i, action in enumerate(game.history):\n",
    "    env.render()\n",
    "    sleep(.1)\n",
    "    obs, r, d, info = env.step(action)\n",
    "#     env.render()\n",
    "    if i == 125:\n",
    "      print(i)\n",
    "    if r > 0:\n",
    "      print(f'Reward baby: {r}')\n",
    "    if d:\n",
    "      print('Done')\n",
    "      break\n",
    "env.close()"
   ]
  },
  {
   "cell_type": "markdown",
   "metadata": {},
   "source": [
    "### Saving"
   ]
  },
  {
   "cell_type": "markdown",
   "metadata": {},
   "source": [
    "**Saving** the model:"
   ]
  },
  {
   "cell_type": "code",
   "execution_count": 15,
   "metadata": {},
   "outputs": [
    {
     "name": "stdout",
     "output_type": "stream",
     "text": [
      "WARNING:tensorflow:From /home/costas/.virtualenvs/muze/lib/python3.7/site-packages/tensorflow/python/ops/resource_variable_ops.py:1817: calling BaseResourceVariable.__init__ (from tensorflow.python.ops.resource_variable_ops) with constraint is deprecated and will be removed in a future version.\n",
      "Instructions for updating:\n",
      "If using Keras pass *_constraint arguments to layers.\n",
      "INFO:tensorflow:Assets written to: data/model/assets\n"
     ]
    }
   ],
   "source": [
    "network.save('data/model')"
   ]
  },
  {
   "cell_type": "markdown",
   "metadata": {},
   "source": [
    "**Saving** the game history:"
   ]
  },
  {
   "cell_type": "code",
   "execution_count": 16,
   "metadata": {},
   "outputs": [],
   "source": [
    "replay_buffer.save_buffer('data/buffer.pkl')"
   ]
  },
  {
   "cell_type": "markdown",
   "metadata": {},
   "source": [
    "/"
   ]
  },
  {
   "cell_type": "code",
   "execution_count": 5,
   "metadata": {},
   "outputs": [
    {
     "name": "stderr",
     "output_type": "stream",
     "text": [
      "100%|██████████| 5/5 [05:02<00:00, 60.47s/it]\n",
      "100%|██████████| 5/5 [05:36<00:00, 67.25s/it]\n"
     ]
    }
   ],
   "source": [
    "for _ in tqdm(range(5)):\n",
    "  run_selfplay(config, storage, replay_buffer)\n",
    "\n",
    "train_network(config, storage, replay_buffer)\n",
    "\n",
    "for _ in tqdm(range(5)):\n",
    "  run_selfplay(config, storage, replay_buffer)\n",
    "  \n",
    "train_network(config, storage, replay_buffer)"
   ]
  },
  {
   "cell_type": "code",
   "execution_count": null,
   "metadata": {},
   "outputs": [],
   "source": []
  }
 ],
 "metadata": {
  "kernelspec": {
   "display_name": "Python 3",
   "language": "python",
   "name": "python3"
  },
  "language_info": {
   "codemirror_mode": {
    "name": "ipython",
    "version": 3
   },
   "file_extension": ".py",
   "mimetype": "text/x-python",
   "name": "python",
   "nbconvert_exporter": "python",
   "pygments_lexer": "ipython3",
   "version": "3.7.7"
  }
 },
 "nbformat": 4,
 "nbformat_minor": 4
}
